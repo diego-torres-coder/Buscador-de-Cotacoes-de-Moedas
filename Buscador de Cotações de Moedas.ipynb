{
 "cells": [
  {
   "cell_type": "markdown",
   "metadata": {},
   "source": [
    "link = 'https://olinda.bcb.gov.br/olinda/servico/PTAX/versao/v1/aplicacao#!/recursos'"
   ]
  },
  {
   "cell_type": "code",
   "execution_count": 8,
   "metadata": {},
   "outputs": [],
   "source": [
    "# Link da documentação Swagger da API do Banco Central do Brasil\n",
    "link = r'https://olinda.bcb.gov.br/olinda/servico/PTAX/versao/v1/swagger-ui3#/'"
   ]
  },
  {
   "cell_type": "code",
   "execution_count": 1,
   "metadata": {},
   "outputs": [],
   "source": [
    "import tkinter as tk"
   ]
  },
  {
   "cell_type": "code",
   "execution_count": 1,
   "metadata": {},
   "outputs": [],
   "source": [
    "import requests"
   ]
  },
  {
   "cell_type": "code",
   "execution_count": 4,
   "metadata": {},
   "outputs": [
    {
     "data": {
      "text/plain": [
       "{'@odata.context': 'https://was-p.bcnet.bcb.gov.br/olinda/servico/PTAX/versao/v1/odata$metadata#Moedas',\n",
       " 'value': [{'simbolo': 'AUD',\n",
       "   'nomeFormatado': 'Dólar australiano',\n",
       "   'tipoMoeda': 'B'},\n",
       "  {'simbolo': 'CAD', 'nomeFormatado': 'Dólar canadense', 'tipoMoeda': 'A'},\n",
       "  {'simbolo': 'CHF', 'nomeFormatado': 'Franco suíço', 'tipoMoeda': 'A'},\n",
       "  {'simbolo': 'DKK', 'nomeFormatado': 'Coroa dinamarquesa', 'tipoMoeda': 'A'},\n",
       "  {'simbolo': 'EUR', 'nomeFormatado': 'Euro', 'tipoMoeda': 'B'},\n",
       "  {'simbolo': 'GBP', 'nomeFormatado': 'Libra Esterlina', 'tipoMoeda': 'B'},\n",
       "  {'simbolo': 'JPY', 'nomeFormatado': 'Iene', 'tipoMoeda': 'A'},\n",
       "  {'simbolo': 'NOK', 'nomeFormatado': 'Coroa norueguesa', 'tipoMoeda': 'A'},\n",
       "  {'simbolo': 'SEK', 'nomeFormatado': 'Coroa sueca', 'tipoMoeda': 'A'},\n",
       "  {'simbolo': 'USD',\n",
       "   'nomeFormatado': 'Dólar dos Estados Unidos',\n",
       "   'tipoMoeda': 'A'}]}"
      ]
     },
     "execution_count": 4,
     "metadata": {},
     "output_type": "execute_result"
    }
   ],
   "source": [
    "resposta = requests.get(\"https://olinda.bcb.gov.br/olinda/servico/PTAX/versao/v1/odata/Moedas?%24format=json\")\n",
    "dados = resposta.json()\n",
    "dados"
   ]
  },
  {
   "cell_type": "code",
   "execution_count": 5,
   "metadata": {},
   "outputs": [
    {
     "data": {
      "text/plain": [
       "[{'simbolo': 'AUD', 'nomeFormatado': 'Dólar australiano', 'tipoMoeda': 'B'},\n",
       " {'simbolo': 'CAD', 'nomeFormatado': 'Dólar canadense', 'tipoMoeda': 'A'},\n",
       " {'simbolo': 'CHF', 'nomeFormatado': 'Franco suíço', 'tipoMoeda': 'A'},\n",
       " {'simbolo': 'DKK', 'nomeFormatado': 'Coroa dinamarquesa', 'tipoMoeda': 'A'},\n",
       " {'simbolo': 'EUR', 'nomeFormatado': 'Euro', 'tipoMoeda': 'B'},\n",
       " {'simbolo': 'GBP', 'nomeFormatado': 'Libra Esterlina', 'tipoMoeda': 'B'},\n",
       " {'simbolo': 'JPY', 'nomeFormatado': 'Iene', 'tipoMoeda': 'A'},\n",
       " {'simbolo': 'NOK', 'nomeFormatado': 'Coroa norueguesa', 'tipoMoeda': 'A'},\n",
       " {'simbolo': 'SEK', 'nomeFormatado': 'Coroa sueca', 'tipoMoeda': 'A'},\n",
       " {'simbolo': 'USD',\n",
       "  'nomeFormatado': 'Dólar dos Estados Unidos',\n",
       "  'tipoMoeda': 'A'}]"
      ]
     },
     "execution_count": 5,
     "metadata": {},
     "output_type": "execute_result"
    }
   ],
   "source": [
    "dados['value']"
   ]
  },
  {
   "cell_type": "code",
   "execution_count": 6,
   "metadata": {},
   "outputs": [
    {
     "name": "stdout",
     "output_type": "stream",
     "text": [
      "AUD\n",
      "CAD\n",
      "CHF\n",
      "DKK\n",
      "EUR\n",
      "GBP\n",
      "JPY\n",
      "NOK\n",
      "SEK\n",
      "USD\n"
     ]
    }
   ],
   "source": [
    "for valor in dados['value']:\n",
    "    print(valor['simbolo'])"
   ]
  },
  {
   "cell_type": "code",
   "execution_count": 7,
   "metadata": {},
   "outputs": [
    {
     "data": {
      "text/plain": [
       "['AUD', 'CAD', 'CHF', 'DKK', 'EUR', 'GBP', 'JPY', 'NOK', 'SEK', 'USD']"
      ]
     },
     "execution_count": 7,
     "metadata": {},
     "output_type": "execute_result"
    }
   ],
   "source": [
    "moedas_disponiveis = []\n",
    "\n",
    "for valor in dados['value']:\n",
    "    moedas_disponiveis.append(valor['simbolo'])\n",
    "\n",
    "moedas_disponiveis"
   ]
  },
  {
   "cell_type": "code",
   "execution_count": null,
   "metadata": {},
   "outputs": [],
   "source": [
    "link_cotacao_moeda_data = \"https://olinda.bcb.gov.br/olinda/servico/PTAX/versao/v1/odata/CotacaoMoedaDia(moeda=@moeda,dataCotacao=@dataCotacao)?@moeda=''&@dataCotacao=''&$top=100&$format=json\""
   ]
  },
  {
   "cell_type": "code",
   "execution_count": null,
   "metadata": {},
   "outputs": [],
   "source": [
    "link_cotacao_moeda_periodo = \"https://olinda.bcb.gov.br/olinda/servico/PTAX/versao/v1/odata/CotacaoMoedaPeriodo(moeda=@moeda,dataInicial=@dataInicial,dataFinalCotacao=@dataFinalCotacao)?@moeda=''&@dataInicial=''&@dataFinalCotacao=''&$top=100&$format=json\""
   ]
  }
 ],
 "metadata": {
  "kernelspec": {
   "display_name": "Python 3 (ipykernel)",
   "language": "python",
   "name": "python3"
  },
  "language_info": {
   "codemirror_mode": {
    "name": "ipython",
    "version": 3
   },
   "file_extension": ".py",
   "mimetype": "text/x-python",
   "name": "python",
   "nbconvert_exporter": "python",
   "pygments_lexer": "ipython3",
   "version": "3.10.10"
  }
 },
 "nbformat": 4,
 "nbformat_minor": 2
}
